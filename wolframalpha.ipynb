{
 "cells": [
  {
   "cell_type": "markdown",
   "id": "6621d0f9",
   "metadata": {},
   "source": [
    "This code demonstrates how to use the wolframalpha Python package to interact with the Wolfram Alpha API to solve mathematical equations. Let's break down the code step by step:"
   ]
  },
  {
   "cell_type": "markdown",
   "id": "400e5265",
   "metadata": {},
   "source": [
    "# Installation of wolframalpha Package:"
   ]
  },
  {
   "cell_type": "code",
   "execution_count": null,
   "id": "a258be7d",
   "metadata": {},
   "outputs": [],
   "source": [
    "pip install wolframalpha"
   ]
  },
  {
   "cell_type": "markdown",
   "id": "f36d3a27",
   "metadata": {},
   "source": [
    "This line installs the wolframalpha Python package, which provides functionality to query the Wolfram Alpha computational knowledge engine."
   ]
  },
  {
   "cell_type": "markdown",
   "id": "720e94e6",
   "metadata": {},
   "source": [
    "# Setting Wolfram Alpha API Key:"
   ]
  },
  {
   "cell_type": "code",
   "execution_count": null,
   "id": "ca7458f8",
   "metadata": {},
   "outputs": [],
   "source": [
    "import os"
   ]
  },
  {
   "cell_type": "code",
   "execution_count": null,
   "id": "fcb77beb",
   "metadata": {},
   "outputs": [],
   "source": [
    "os.environ[\"WOLFRAM_ALPHA_APPID\"] = 'Please Enter Wolfram Alpha API Key '\n"
   ]
  },
  {
   "cell_type": "markdown",
   "id": "a93f34ac",
   "metadata": {},
   "source": [
    "Here, you import the os module and set an environment variable named \"WOLFRAM_ALPHA_APPID\" to your Wolfram Alpha API App ID. You need to replace 'Wolfram Alpha API Key' with your actual Wolfram Alpha API App ID. This ID is necessary for authenticating your requests to the Wolfram Alpha API."
   ]
  },
  {
   "cell_type": "markdown",
   "id": "168a0d4c",
   "metadata": {},
   "source": [
    "# Importing WolframAlphaAPIWrapper:"
   ]
  },
  {
   "cell_type": "code",
   "execution_count": null,
   "id": "91a2ea59",
   "metadata": {},
   "outputs": [],
   "source": [
    "from langchain.utilities.wolfram_alpha import WolframAlphaAPIWrapper"
   ]
  },
  {
   "cell_type": "markdown",
   "id": "85f15630",
   "metadata": {},
   "source": [
    "This line imports a specific utility class named WolframAlphaAPIWrapper from the langchain library. This class helps you interact with the Wolfram Alpha API."
   ]
  },
  {
   "cell_type": "markdown",
   "id": "048d80a1",
   "metadata": {},
   "source": [
    "# Creating a WolframAlphaAPIWrapper Instance:"
   ]
  },
  {
   "cell_type": "code",
   "execution_count": null,
   "id": "389edb12",
   "metadata": {},
   "outputs": [],
   "source": [
    "wolfram = WolframAlphaAPIWrapper()"
   ]
  },
  {
   "cell_type": "markdown",
   "id": "7750e795",
   "metadata": {},
   "source": [
    "Here, you create an instance of the WolframAlphaAPIWrapper class, which you imported in the previous step. This instance will be used to send queries to the Wolfram Alpha API."
   ]
  },
  {
   "cell_type": "code",
   "execution_count": null,
   "id": "9fa9b936",
   "metadata": {},
   "outputs": [],
   "source": [
    "x = input(\"please enter your prompt for ex :-What is 2x+5 = -3x + 7?\")"
   ]
  },
  {
   "cell_type": "markdown",
   "id": "1360b210",
   "metadata": {},
   "source": [
    "# Querying Wolfram Alpha:"
   ]
  },
  {
   "cell_type": "code",
   "execution_count": null,
   "id": "4480a097",
   "metadata": {},
   "outputs": [],
   "source": [
    " output =  wolfram.run(x)"
   ]
  },
  {
   "cell_type": "markdown",
   "id": "10c28369",
   "metadata": {},
   "source": [
    "This line sends a query to the Wolfram Alpha API using the run method of the WolframAlphaAPIWrapper instance you created earlier. The query in this case is a mathematical equation: \"What is 2x+5 = -3x + 7?\"."
   ]
  },
  {
   "cell_type": "code",
   "execution_count": null,
   "id": "554cbfe0",
   "metadata": {},
   "outputs": [],
   "source": [
    "print(output)"
   ]
  },
  {
   "cell_type": "markdown",
   "id": "ef1abc1b",
   "metadata": {},
   "source": [
    "  Finally, you print the response received from the Wolfram Alpha API. This response should contain the solution to the provided mathematical equation.\n",
    "\n",
    "In summary, this code sets up an environment variable for the Wolfram Alpha API App ID, uses the wolframalpha package to send a mathematical equation query to the Wolfram Alpha API, and then prints the API's response, which should include the solution to the equation.\n",
    "\n",
    "\n",
    "\n",
    "\n",
    "\n"
   ]
  },
  {
   "cell_type": "code",
   "execution_count": null,
   "id": "1c4d8e73",
   "metadata": {},
   "outputs": [],
   "source": []
  }
 ],
 "metadata": {
  "kernelspec": {
   "display_name": "Python 3 (ipykernel)",
   "language": "python",
   "name": "python3"
  },
  "language_info": {
   "codemirror_mode": {
    "name": "ipython",
    "version": 3
   },
   "file_extension": ".py",
   "mimetype": "text/x-python",
   "name": "python",
   "nbconvert_exporter": "python",
   "pygments_lexer": "ipython3",
   "version": "3.9.13"
  }
 },
 "nbformat": 4,
 "nbformat_minor": 5
}
